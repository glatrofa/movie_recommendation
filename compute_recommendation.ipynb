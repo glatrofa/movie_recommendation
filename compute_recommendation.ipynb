{
 "metadata": {
  "language_info": {
   "codemirror_mode": {
    "name": "ipython",
    "version": 3
   },
   "file_extension": ".py",
   "mimetype": "text/x-python",
   "name": "python",
   "nbconvert_exporter": "python",
   "pygments_lexer": "ipython3",
   "version": "3.6.9"
  },
  "orig_nbformat": 4,
  "kernelspec": {
   "name": "python3",
   "display_name": "Python 3.6.9 64-bit ('venv')"
  },
  "interpreter": {
   "hash": "3941fa7508f720201341fee10c3339966ad320b295409989b294201e47964cd5"
  }
 },
 "nbformat": 4,
 "nbformat_minor": 2,
 "cells": [
  {
   "cell_type": "code",
   "execution_count": 1,
   "metadata": {},
   "outputs": [],
   "source": [
    "# load movilens data\n",
    "import pandas as pd\n",
    "import numpy as np\n",
    "import datetime\n",
    "from collections import Counter\n",
    "from sklearn.metrics.pairwise import cosine_similarity\n",
    "\n",
    "genome_scores_data = pd.read_csv('./data/genome-scores.csv')\n",
    "movies_data = pd.read_csv('./data/movies.csv')\n",
    "ratings_data = pd.read_csv('./data/ratings.csv')"
   ]
  },
  {
   "cell_type": "code",
   "execution_count": 2,
   "metadata": {},
   "outputs": [
    {
     "output_type": "execute_result",
     "data": {
      "text/plain": [
       "   movieId  tagId  relevance\n",
       "0        1      1    0.02900\n",
       "1        1      2    0.02375\n",
       "2        1      3    0.05425\n",
       "3        1      4    0.06875\n",
       "4        1      5    0.16000"
      ],
      "text/html": "<div>\n<style scoped>\n    .dataframe tbody tr th:only-of-type {\n        vertical-align: middle;\n    }\n\n    .dataframe tbody tr th {\n        vertical-align: top;\n    }\n\n    .dataframe thead th {\n        text-align: right;\n    }\n</style>\n<table border=\"1\" class=\"dataframe\">\n  <thead>\n    <tr style=\"text-align: right;\">\n      <th></th>\n      <th>movieId</th>\n      <th>tagId</th>\n      <th>relevance</th>\n    </tr>\n  </thead>\n  <tbody>\n    <tr>\n      <th>0</th>\n      <td>1</td>\n      <td>1</td>\n      <td>0.02900</td>\n    </tr>\n    <tr>\n      <th>1</th>\n      <td>1</td>\n      <td>2</td>\n      <td>0.02375</td>\n    </tr>\n    <tr>\n      <th>2</th>\n      <td>1</td>\n      <td>3</td>\n      <td>0.05425</td>\n    </tr>\n    <tr>\n      <th>3</th>\n      <td>1</td>\n      <td>4</td>\n      <td>0.06875</td>\n    </tr>\n    <tr>\n      <th>4</th>\n      <td>1</td>\n      <td>5</td>\n      <td>0.16000</td>\n    </tr>\n  </tbody>\n</table>\n</div>"
     },
     "metadata": {},
     "execution_count": 2
    }
   ],
   "source": [
    "genome_scores_data.head()"
   ]
  },
  {
   "cell_type": "code",
   "execution_count": 3,
   "metadata": {},
   "outputs": [
    {
     "output_type": "execute_result",
     "data": {
      "text/plain": [
       "   movieId                               title  \\\n",
       "0        1                    Toy Story (1995)   \n",
       "1        2                      Jumanji (1995)   \n",
       "2        3             Grumpier Old Men (1995)   \n",
       "3        4            Waiting to Exhale (1995)   \n",
       "4        5  Father of the Bride Part II (1995)   \n",
       "\n",
       "                                        genres  \n",
       "0  Adventure|Animation|Children|Comedy|Fantasy  \n",
       "1                   Adventure|Children|Fantasy  \n",
       "2                               Comedy|Romance  \n",
       "3                         Comedy|Drama|Romance  \n",
       "4                                       Comedy  "
      ],
      "text/html": "<div>\n<style scoped>\n    .dataframe tbody tr th:only-of-type {\n        vertical-align: middle;\n    }\n\n    .dataframe tbody tr th {\n        vertical-align: top;\n    }\n\n    .dataframe thead th {\n        text-align: right;\n    }\n</style>\n<table border=\"1\" class=\"dataframe\">\n  <thead>\n    <tr style=\"text-align: right;\">\n      <th></th>\n      <th>movieId</th>\n      <th>title</th>\n      <th>genres</th>\n    </tr>\n  </thead>\n  <tbody>\n    <tr>\n      <th>0</th>\n      <td>1</td>\n      <td>Toy Story (1995)</td>\n      <td>Adventure|Animation|Children|Comedy|Fantasy</td>\n    </tr>\n    <tr>\n      <th>1</th>\n      <td>2</td>\n      <td>Jumanji (1995)</td>\n      <td>Adventure|Children|Fantasy</td>\n    </tr>\n    <tr>\n      <th>2</th>\n      <td>3</td>\n      <td>Grumpier Old Men (1995)</td>\n      <td>Comedy|Romance</td>\n    </tr>\n    <tr>\n      <th>3</th>\n      <td>4</td>\n      <td>Waiting to Exhale (1995)</td>\n      <td>Comedy|Drama|Romance</td>\n    </tr>\n    <tr>\n      <th>4</th>\n      <td>5</td>\n      <td>Father of the Bride Part II (1995)</td>\n      <td>Comedy</td>\n    </tr>\n  </tbody>\n</table>\n</div>"
     },
     "metadata": {},
     "execution_count": 3
    }
   ],
   "source": [
    "movies_data.head()"
   ]
  },
  {
   "cell_type": "code",
   "execution_count": 4,
   "metadata": {},
   "outputs": [
    {
     "output_type": "execute_result",
     "data": {
      "text/plain": [
       "   userId  movieId  rating   timestamp\n",
       "0       1      307     3.5  1256677221\n",
       "1       1      481     3.5  1256677456\n",
       "2       1     1091     1.5  1256677471\n",
       "3       1     1257     4.5  1256677460\n",
       "4       1     1449     4.5  1256677264"
      ],
      "text/html": "<div>\n<style scoped>\n    .dataframe tbody tr th:only-of-type {\n        vertical-align: middle;\n    }\n\n    .dataframe tbody tr th {\n        vertical-align: top;\n    }\n\n    .dataframe thead th {\n        text-align: right;\n    }\n</style>\n<table border=\"1\" class=\"dataframe\">\n  <thead>\n    <tr style=\"text-align: right;\">\n      <th></th>\n      <th>userId</th>\n      <th>movieId</th>\n      <th>rating</th>\n      <th>timestamp</th>\n    </tr>\n  </thead>\n  <tbody>\n    <tr>\n      <th>0</th>\n      <td>1</td>\n      <td>307</td>\n      <td>3.5</td>\n      <td>1256677221</td>\n    </tr>\n    <tr>\n      <th>1</th>\n      <td>1</td>\n      <td>481</td>\n      <td>3.5</td>\n      <td>1256677456</td>\n    </tr>\n    <tr>\n      <th>2</th>\n      <td>1</td>\n      <td>1091</td>\n      <td>1.5</td>\n      <td>1256677471</td>\n    </tr>\n    <tr>\n      <th>3</th>\n      <td>1</td>\n      <td>1257</td>\n      <td>4.5</td>\n      <td>1256677460</td>\n    </tr>\n    <tr>\n      <th>4</th>\n      <td>1</td>\n      <td>1449</td>\n      <td>4.5</td>\n      <td>1256677264</td>\n    </tr>\n  </tbody>\n</table>\n</div>"
     },
     "metadata": {},
     "execution_count": 4
    }
   ],
   "source": [
    "ratings_data.head()"
   ]
  },
  {
   "cell_type": "code",
   "execution_count": 5,
   "metadata": {},
   "outputs": [
    {
     "output_type": "execute_result",
     "data": {
      "text/plain": [
       "tagId  movieId        1        2        3        4        5        6        7  \\\n",
       "0            1  0.02900  0.02375  0.05425  0.06875  0.16000  0.19525  0.07600   \n",
       "1            2  0.03625  0.03625  0.08275  0.08175  0.10200  0.06900  0.05775   \n",
       "2            3  0.04150  0.04950  0.03000  0.09525  0.04525  0.05925  0.04000   \n",
       "3            4  0.03350  0.03675  0.04275  0.02625  0.05250  0.03025  0.02425   \n",
       "4            5  0.04050  0.05175  0.03600  0.04625  0.05500  0.08000  0.02150   \n",
       "\n",
       "tagId        8        9  ...     1119     1120     1121     1122     1123  \\\n",
       "0      0.25200  0.22750  ...  0.03775  0.02250  0.04075  0.03175  0.12950   \n",
       "1      0.10100  0.08225  ...  0.04775  0.02050  0.01650  0.02450  0.13050   \n",
       "2      0.14150  0.04075  ...  0.05800  0.02375  0.03550  0.02125  0.12775   \n",
       "3      0.07475  0.03750  ...  0.04900  0.03275  0.02125  0.03675  0.15925   \n",
       "4      0.07375  0.02825  ...  0.05375  0.02625  0.02050  0.02125  0.17725   \n",
       "\n",
       "tagId     1124     1125     1126     1127     1128  \n",
       "0      0.04550  0.02000  0.03850  0.09125  0.02225  \n",
       "1      0.02700  0.01825  0.01225  0.09925  0.01850  \n",
       "2      0.03250  0.01625  0.02125  0.09525  0.01750  \n",
       "3      0.05225  0.01500  0.01600  0.09175  0.01500  \n",
       "4      0.02050  0.01500  0.01550  0.08875  0.01575  \n",
       "\n",
       "[5 rows x 1129 columns]"
      ],
      "text/html": "<div>\n<style scoped>\n    .dataframe tbody tr th:only-of-type {\n        vertical-align: middle;\n    }\n\n    .dataframe tbody tr th {\n        vertical-align: top;\n    }\n\n    .dataframe thead th {\n        text-align: right;\n    }\n</style>\n<table border=\"1\" class=\"dataframe\">\n  <thead>\n    <tr style=\"text-align: right;\">\n      <th>tagId</th>\n      <th>movieId</th>\n      <th>1</th>\n      <th>2</th>\n      <th>3</th>\n      <th>4</th>\n      <th>5</th>\n      <th>6</th>\n      <th>7</th>\n      <th>8</th>\n      <th>9</th>\n      <th>...</th>\n      <th>1119</th>\n      <th>1120</th>\n      <th>1121</th>\n      <th>1122</th>\n      <th>1123</th>\n      <th>1124</th>\n      <th>1125</th>\n      <th>1126</th>\n      <th>1127</th>\n      <th>1128</th>\n    </tr>\n  </thead>\n  <tbody>\n    <tr>\n      <th>0</th>\n      <td>1</td>\n      <td>0.02900</td>\n      <td>0.02375</td>\n      <td>0.05425</td>\n      <td>0.06875</td>\n      <td>0.16000</td>\n      <td>0.19525</td>\n      <td>0.07600</td>\n      <td>0.25200</td>\n      <td>0.22750</td>\n      <td>...</td>\n      <td>0.03775</td>\n      <td>0.02250</td>\n      <td>0.04075</td>\n      <td>0.03175</td>\n      <td>0.12950</td>\n      <td>0.04550</td>\n      <td>0.02000</td>\n      <td>0.03850</td>\n      <td>0.09125</td>\n      <td>0.02225</td>\n    </tr>\n    <tr>\n      <th>1</th>\n      <td>2</td>\n      <td>0.03625</td>\n      <td>0.03625</td>\n      <td>0.08275</td>\n      <td>0.08175</td>\n      <td>0.10200</td>\n      <td>0.06900</td>\n      <td>0.05775</td>\n      <td>0.10100</td>\n      <td>0.08225</td>\n      <td>...</td>\n      <td>0.04775</td>\n      <td>0.02050</td>\n      <td>0.01650</td>\n      <td>0.02450</td>\n      <td>0.13050</td>\n      <td>0.02700</td>\n      <td>0.01825</td>\n      <td>0.01225</td>\n      <td>0.09925</td>\n      <td>0.01850</td>\n    </tr>\n    <tr>\n      <th>2</th>\n      <td>3</td>\n      <td>0.04150</td>\n      <td>0.04950</td>\n      <td>0.03000</td>\n      <td>0.09525</td>\n      <td>0.04525</td>\n      <td>0.05925</td>\n      <td>0.04000</td>\n      <td>0.14150</td>\n      <td>0.04075</td>\n      <td>...</td>\n      <td>0.05800</td>\n      <td>0.02375</td>\n      <td>0.03550</td>\n      <td>0.02125</td>\n      <td>0.12775</td>\n      <td>0.03250</td>\n      <td>0.01625</td>\n      <td>0.02125</td>\n      <td>0.09525</td>\n      <td>0.01750</td>\n    </tr>\n    <tr>\n      <th>3</th>\n      <td>4</td>\n      <td>0.03350</td>\n      <td>0.03675</td>\n      <td>0.04275</td>\n      <td>0.02625</td>\n      <td>0.05250</td>\n      <td>0.03025</td>\n      <td>0.02425</td>\n      <td>0.07475</td>\n      <td>0.03750</td>\n      <td>...</td>\n      <td>0.04900</td>\n      <td>0.03275</td>\n      <td>0.02125</td>\n      <td>0.03675</td>\n      <td>0.15925</td>\n      <td>0.05225</td>\n      <td>0.01500</td>\n      <td>0.01600</td>\n      <td>0.09175</td>\n      <td>0.01500</td>\n    </tr>\n    <tr>\n      <th>4</th>\n      <td>5</td>\n      <td>0.04050</td>\n      <td>0.05175</td>\n      <td>0.03600</td>\n      <td>0.04625</td>\n      <td>0.05500</td>\n      <td>0.08000</td>\n      <td>0.02150</td>\n      <td>0.07375</td>\n      <td>0.02825</td>\n      <td>...</td>\n      <td>0.05375</td>\n      <td>0.02625</td>\n      <td>0.02050</td>\n      <td>0.02125</td>\n      <td>0.17725</td>\n      <td>0.02050</td>\n      <td>0.01500</td>\n      <td>0.01550</td>\n      <td>0.08875</td>\n      <td>0.01575</td>\n    </tr>\n  </tbody>\n</table>\n<p>5 rows × 1129 columns</p>\n</div>"
     },
     "metadata": {},
     "execution_count": 5
    }
   ],
   "source": [
    "# mov_tag_df\n",
    "scores_pivot = genome_scores_data.pivot_table(index = [\"movieId\"],columns = [\"tagId\"],values = \"relevance\").reset_index() # compare movie throgh the tags\n",
    "del genome_scores_data\n",
    "scores_pivot.head()"
   ]
  },
  {
   "cell_type": "code",
   "execution_count": 6,
   "metadata": {},
   "outputs": [
    {
     "output_type": "execute_result",
     "data": {
      "text/plain": [
       "   movieId        1        2        3        4        5        6        7  \\\n",
       "0        1  0.02900  0.02375  0.05425  0.06875  0.16000  0.19525  0.07600   \n",
       "1        2  0.03625  0.03625  0.08275  0.08175  0.10200  0.06900  0.05775   \n",
       "2        3  0.04150  0.04950  0.03000  0.09525  0.04525  0.05925  0.04000   \n",
       "3        4  0.03350  0.03675  0.04275  0.02625  0.05250  0.03025  0.02425   \n",
       "4        5  0.04050  0.05175  0.03600  0.04625  0.05500  0.08000  0.02150   \n",
       "\n",
       "         8        9  ...     1119     1120     1121     1122     1123  \\\n",
       "0  0.25200  0.22750  ...  0.03775  0.02250  0.04075  0.03175  0.12950   \n",
       "1  0.10100  0.08225  ...  0.04775  0.02050  0.01650  0.02450  0.13050   \n",
       "2  0.14150  0.04075  ...  0.05800  0.02375  0.03550  0.02125  0.12775   \n",
       "3  0.07475  0.03750  ...  0.04900  0.03275  0.02125  0.03675  0.15925   \n",
       "4  0.07375  0.02825  ...  0.05375  0.02625  0.02050  0.02125  0.17725   \n",
       "\n",
       "      1124     1125     1126     1127     1128  \n",
       "0  0.04550  0.02000  0.03850  0.09125  0.02225  \n",
       "1  0.02700  0.01825  0.01225  0.09925  0.01850  \n",
       "2  0.03250  0.01625  0.02125  0.09525  0.01750  \n",
       "3  0.05225  0.01500  0.01600  0.09175  0.01500  \n",
       "4  0.02050  0.01500  0.01550  0.08875  0.01575  \n",
       "\n",
       "[5 rows x 1129 columns]"
      ],
      "text/html": "<div>\n<style scoped>\n    .dataframe tbody tr th:only-of-type {\n        vertical-align: middle;\n    }\n\n    .dataframe tbody tr th {\n        vertical-align: top;\n    }\n\n    .dataframe thead th {\n        text-align: right;\n    }\n</style>\n<table border=\"1\" class=\"dataframe\">\n  <thead>\n    <tr style=\"text-align: right;\">\n      <th></th>\n      <th>movieId</th>\n      <th>1</th>\n      <th>2</th>\n      <th>3</th>\n      <th>4</th>\n      <th>5</th>\n      <th>6</th>\n      <th>7</th>\n      <th>8</th>\n      <th>9</th>\n      <th>...</th>\n      <th>1119</th>\n      <th>1120</th>\n      <th>1121</th>\n      <th>1122</th>\n      <th>1123</th>\n      <th>1124</th>\n      <th>1125</th>\n      <th>1126</th>\n      <th>1127</th>\n      <th>1128</th>\n    </tr>\n  </thead>\n  <tbody>\n    <tr>\n      <th>0</th>\n      <td>1</td>\n      <td>0.02900</td>\n      <td>0.02375</td>\n      <td>0.05425</td>\n      <td>0.06875</td>\n      <td>0.16000</td>\n      <td>0.19525</td>\n      <td>0.07600</td>\n      <td>0.25200</td>\n      <td>0.22750</td>\n      <td>...</td>\n      <td>0.03775</td>\n      <td>0.02250</td>\n      <td>0.04075</td>\n      <td>0.03175</td>\n      <td>0.12950</td>\n      <td>0.04550</td>\n      <td>0.02000</td>\n      <td>0.03850</td>\n      <td>0.09125</td>\n      <td>0.02225</td>\n    </tr>\n    <tr>\n      <th>1</th>\n      <td>2</td>\n      <td>0.03625</td>\n      <td>0.03625</td>\n      <td>0.08275</td>\n      <td>0.08175</td>\n      <td>0.10200</td>\n      <td>0.06900</td>\n      <td>0.05775</td>\n      <td>0.10100</td>\n      <td>0.08225</td>\n      <td>...</td>\n      <td>0.04775</td>\n      <td>0.02050</td>\n      <td>0.01650</td>\n      <td>0.02450</td>\n      <td>0.13050</td>\n      <td>0.02700</td>\n      <td>0.01825</td>\n      <td>0.01225</td>\n      <td>0.09925</td>\n      <td>0.01850</td>\n    </tr>\n    <tr>\n      <th>2</th>\n      <td>3</td>\n      <td>0.04150</td>\n      <td>0.04950</td>\n      <td>0.03000</td>\n      <td>0.09525</td>\n      <td>0.04525</td>\n      <td>0.05925</td>\n      <td>0.04000</td>\n      <td>0.14150</td>\n      <td>0.04075</td>\n      <td>...</td>\n      <td>0.05800</td>\n      <td>0.02375</td>\n      <td>0.03550</td>\n      <td>0.02125</td>\n      <td>0.12775</td>\n      <td>0.03250</td>\n      <td>0.01625</td>\n      <td>0.02125</td>\n      <td>0.09525</td>\n      <td>0.01750</td>\n    </tr>\n    <tr>\n      <th>3</th>\n      <td>4</td>\n      <td>0.03350</td>\n      <td>0.03675</td>\n      <td>0.04275</td>\n      <td>0.02625</td>\n      <td>0.05250</td>\n      <td>0.03025</td>\n      <td>0.02425</td>\n      <td>0.07475</td>\n      <td>0.03750</td>\n      <td>...</td>\n      <td>0.04900</td>\n      <td>0.03275</td>\n      <td>0.02125</td>\n      <td>0.03675</td>\n      <td>0.15925</td>\n      <td>0.05225</td>\n      <td>0.01500</td>\n      <td>0.01600</td>\n      <td>0.09175</td>\n      <td>0.01500</td>\n    </tr>\n    <tr>\n      <th>4</th>\n      <td>5</td>\n      <td>0.04050</td>\n      <td>0.05175</td>\n      <td>0.03600</td>\n      <td>0.04625</td>\n      <td>0.05500</td>\n      <td>0.08000</td>\n      <td>0.02150</td>\n      <td>0.07375</td>\n      <td>0.02825</td>\n      <td>...</td>\n      <td>0.05375</td>\n      <td>0.02625</td>\n      <td>0.02050</td>\n      <td>0.02125</td>\n      <td>0.17725</td>\n      <td>0.02050</td>\n      <td>0.01500</td>\n      <td>0.01550</td>\n      <td>0.08875</td>\n      <td>0.01575</td>\n    </tr>\n  </tbody>\n</table>\n<p>5 rows × 1129 columns</p>\n</div>"
     },
     "metadata": {},
     "execution_count": 6
    }
   ],
   "source": [
    "#join\n",
    "mov_tag_df = movies_data.merge(scores_pivot, left_on='movieId', right_on='movieId', how='left') # get all movieIds\n",
    "del scores_pivot\n",
    "\n",
    "mov_tag_df = mov_tag_df.fillna(0) # fill null values\n",
    "mov_tag_df = mov_tag_df.drop(['title','genres'], axis = 1) # drop clumns not used\n",
    "\n",
    "mov_tag_df.head()"
   ]
  },
  {
   "cell_type": "code",
   "execution_count": 7,
   "metadata": {},
   "outputs": [],
   "source": [
    "# mov_genres_df\n",
    "def set_genres(genres,col):\n",
    "    '''Split genres column and check if it exists or not.'''\n",
    "    if genres in col.split('|'): return 1\n",
    "    else: return 0"
   ]
  },
  {
   "cell_type": "code",
   "execution_count": 8,
   "metadata": {},
   "outputs": [
    {
     "output_type": "execute_result",
     "data": {
      "text/plain": [
       "   movieId  Action  Adventure  Animation  Children  Comedy  Crime  \\\n",
       "0        1       0          1          1         1       1      0   \n",
       "1        2       0          1          0         1       0      0   \n",
       "2        3       0          0          0         0       1      0   \n",
       "3        4       0          0          0         0       1      0   \n",
       "4        5       0          0          0         0       1      0   \n",
       "\n",
       "   Documentary  Drama  Fantasy  Film-Noir  Horror  Musical  Mystery  Romance  \\\n",
       "0            0      0        1          0       0        0        0        0   \n",
       "1            0      0        1          0       0        0        0        0   \n",
       "2            0      0        0          0       0        0        0        1   \n",
       "3            0      1        0          0       0        0        0        1   \n",
       "4            0      0        0          0       0        0        0        0   \n",
       "\n",
       "   Sci-Fi  Thriller  War  Western  (no genres listed)  \n",
       "0       0         0    0        0                   0  \n",
       "1       0         0    0        0                   0  \n",
       "2       0         0    0        0                   0  \n",
       "3       0         0    0        0                   0  \n",
       "4       0         0    0        0                   0  "
      ],
      "text/html": "<div>\n<style scoped>\n    .dataframe tbody tr th:only-of-type {\n        vertical-align: middle;\n    }\n\n    .dataframe tbody tr th {\n        vertical-align: top;\n    }\n\n    .dataframe thead th {\n        text-align: right;\n    }\n</style>\n<table border=\"1\" class=\"dataframe\">\n  <thead>\n    <tr style=\"text-align: right;\">\n      <th></th>\n      <th>movieId</th>\n      <th>Action</th>\n      <th>Adventure</th>\n      <th>Animation</th>\n      <th>Children</th>\n      <th>Comedy</th>\n      <th>Crime</th>\n      <th>Documentary</th>\n      <th>Drama</th>\n      <th>Fantasy</th>\n      <th>Film-Noir</th>\n      <th>Horror</th>\n      <th>Musical</th>\n      <th>Mystery</th>\n      <th>Romance</th>\n      <th>Sci-Fi</th>\n      <th>Thriller</th>\n      <th>War</th>\n      <th>Western</th>\n      <th>(no genres listed)</th>\n    </tr>\n  </thead>\n  <tbody>\n    <tr>\n      <th>0</th>\n      <td>1</td>\n      <td>0</td>\n      <td>1</td>\n      <td>1</td>\n      <td>1</td>\n      <td>1</td>\n      <td>0</td>\n      <td>0</td>\n      <td>0</td>\n      <td>1</td>\n      <td>0</td>\n      <td>0</td>\n      <td>0</td>\n      <td>0</td>\n      <td>0</td>\n      <td>0</td>\n      <td>0</td>\n      <td>0</td>\n      <td>0</td>\n      <td>0</td>\n    </tr>\n    <tr>\n      <th>1</th>\n      <td>2</td>\n      <td>0</td>\n      <td>1</td>\n      <td>0</td>\n      <td>1</td>\n      <td>0</td>\n      <td>0</td>\n      <td>0</td>\n      <td>0</td>\n      <td>1</td>\n      <td>0</td>\n      <td>0</td>\n      <td>0</td>\n      <td>0</td>\n      <td>0</td>\n      <td>0</td>\n      <td>0</td>\n      <td>0</td>\n      <td>0</td>\n      <td>0</td>\n    </tr>\n    <tr>\n      <th>2</th>\n      <td>3</td>\n      <td>0</td>\n      <td>0</td>\n      <td>0</td>\n      <td>0</td>\n      <td>1</td>\n      <td>0</td>\n      <td>0</td>\n      <td>0</td>\n      <td>0</td>\n      <td>0</td>\n      <td>0</td>\n      <td>0</td>\n      <td>0</td>\n      <td>1</td>\n      <td>0</td>\n      <td>0</td>\n      <td>0</td>\n      <td>0</td>\n      <td>0</td>\n    </tr>\n    <tr>\n      <th>3</th>\n      <td>4</td>\n      <td>0</td>\n      <td>0</td>\n      <td>0</td>\n      <td>0</td>\n      <td>1</td>\n      <td>0</td>\n      <td>0</td>\n      <td>1</td>\n      <td>0</td>\n      <td>0</td>\n      <td>0</td>\n      <td>0</td>\n      <td>0</td>\n      <td>1</td>\n      <td>0</td>\n      <td>0</td>\n      <td>0</td>\n      <td>0</td>\n      <td>0</td>\n    </tr>\n    <tr>\n      <th>4</th>\n      <td>5</td>\n      <td>0</td>\n      <td>0</td>\n      <td>0</td>\n      <td>0</td>\n      <td>1</td>\n      <td>0</td>\n      <td>0</td>\n      <td>0</td>\n      <td>0</td>\n      <td>0</td>\n      <td>0</td>\n      <td>0</td>\n      <td>0</td>\n      <td>0</td>\n      <td>0</td>\n      <td>0</td>\n      <td>0</td>\n      <td>0</td>\n      <td>0</td>\n    </tr>\n  </tbody>\n</table>\n</div>"
     },
     "metadata": {},
     "execution_count": 8
    }
   ],
   "source": [
    "mov_genres_df = pd.read_csv('./data/movies.csv')\n",
    "# split genres field for each movies and create columns for each genres\n",
    "mov_genres_df[\"Action\"] = mov_genres_df.apply(lambda x: set_genres(\"Action\",x['genres']), axis=1)\n",
    "mov_genres_df[\"Adventure\"] = mov_genres_df.apply(lambda x: set_genres(\"Adventure\",x['genres']), axis=1)\n",
    "mov_genres_df[\"Animation\"] = mov_genres_df.apply(lambda x: set_genres(\"Animation\",x['genres']), axis=1)\n",
    "mov_genres_df[\"Children\"] = mov_genres_df.apply(lambda x: set_genres(\"Children\",x['genres']), axis=1)\n",
    "mov_genres_df[\"Comedy\"] = mov_genres_df.apply(lambda x: set_genres(\"Comedy\",x['genres']), axis=1)\n",
    "mov_genres_df[\"Crime\"] = mov_genres_df.apply(lambda x: set_genres(\"Crime\",x['genres']), axis=1)\n",
    "mov_genres_df[\"Documentary\"] = mov_genres_df.apply(lambda x: set_genres(\"Documentary\",x['genres']), axis=1)\n",
    "mov_genres_df[\"Drama\"] = mov_genres_df.apply(lambda x: set_genres(\"Drama\",x['genres']), axis=1)\n",
    "mov_genres_df[\"Fantasy\"] = mov_genres_df.apply(lambda x: set_genres(\"Fantasy\",x['genres']), axis=1)\n",
    "mov_genres_df[\"Film-Noir\"] = mov_genres_df.apply(lambda x: set_genres(\"Film-Noir\",x['genres']), axis=1)\n",
    "mov_genres_df[\"Horror\"] = mov_genres_df.apply(lambda x: set_genres(\"Horror\",x['genres']), axis=1)\n",
    "mov_genres_df[\"Musical\"] = mov_genres_df.apply(lambda x: set_genres(\"Musical\",x['genres']), axis=1)\n",
    "mov_genres_df[\"Mystery\"] = mov_genres_df.apply(lambda x: set_genres(\"Mystery\",x['genres']), axis=1)\n",
    "mov_genres_df[\"Romance\"] = mov_genres_df.apply(lambda x: set_genres(\"Romance\",x['genres']), axis=1)\n",
    "mov_genres_df[\"Sci-Fi\"] = mov_genres_df.apply(lambda x: set_genres(\"Sci-Fi\",x['genres']), axis=1)\n",
    "mov_genres_df[\"Thriller\"] = mov_genres_df.apply(lambda x: set_genres(\"Thriller\",x['genres']), axis=1)\n",
    "mov_genres_df[\"War\"] = mov_genres_df.apply(lambda x: set_genres(\"War\",x['genres']), axis=1)\n",
    "mov_genres_df[\"Western\"] = mov_genres_df.apply(lambda x: set_genres(\"Western\",x['genres']), axis=1)\n",
    "mov_genres_df[\"(no genres listed)\"] = mov_genres_df.apply(lambda x: set_genres(\"(no genres listed)\",x['genres']), axis=1)\n",
    "\n",
    "# drop columns which are no needed anymore\n",
    "mov_genres_df.drop(['title','genres'], axis = 1, inplace=True)\n",
    "\n",
    "mov_genres_df.head()"
   ]
  },
  {
   "cell_type": "code",
   "execution_count": 9,
   "metadata": {
    "tags": []
   },
   "outputs": [
    {
     "output_type": "execute_result",
     "data": {
      "text/plain": [
       "   movieId                               title  year\n",
       "0        1                    Toy Story (1995)  1995\n",
       "1        2                      Jumanji (1995)  1995\n",
       "2        3             Grumpier Old Men (1995)  1995\n",
       "3        4            Waiting to Exhale (1995)  1995\n",
       "4        5  Father of the Bride Part II (1995)  1995"
      ],
      "text/html": "<div>\n<style scoped>\n    .dataframe tbody tr th:only-of-type {\n        vertical-align: middle;\n    }\n\n    .dataframe tbody tr th {\n        vertical-align: top;\n    }\n\n    .dataframe thead th {\n        text-align: right;\n    }\n</style>\n<table border=\"1\" class=\"dataframe\">\n  <thead>\n    <tr style=\"text-align: right;\">\n      <th></th>\n      <th>movieId</th>\n      <th>title</th>\n      <th>year</th>\n    </tr>\n  </thead>\n  <tbody>\n    <tr>\n      <th>0</th>\n      <td>1</td>\n      <td>Toy Story (1995)</td>\n      <td>1995</td>\n    </tr>\n    <tr>\n      <th>1</th>\n      <td>2</td>\n      <td>Jumanji (1995)</td>\n      <td>1995</td>\n    </tr>\n    <tr>\n      <th>2</th>\n      <td>3</td>\n      <td>Grumpier Old Men (1995)</td>\n      <td>1995</td>\n    </tr>\n    <tr>\n      <th>3</th>\n      <td>4</td>\n      <td>Waiting to Exhale (1995)</td>\n      <td>1995</td>\n    </tr>\n    <tr>\n      <th>4</th>\n      <td>5</td>\n      <td>Father of the Bride Part II (1995)</td>\n      <td>1995</td>\n    </tr>\n  </tbody>\n</table>\n</div>"
     },
     "metadata": {},
     "execution_count": 9
    }
   ],
   "source": [
    "# mov_rating_df\n",
    "import unicodedata\n",
    "\n",
    "def set_year(title):\n",
    "    '''Extract year information from \"title\" field.'''\n",
    "    year = title.strip()[-5:-1]\n",
    "    if year.isdigit(): return int(year)\n",
    "    else: return 1800\n",
    "\n",
    "\n",
    "movies = pd.read_csv('./data/movies.csv')\n",
    "\n",
    "movies = movies_data.drop('genres', axis = 1)\n",
    "\n",
    "movies['year'] = movies.apply(lambda x: set_year(x['title']), axis=1)\n",
    "\n",
    "movies.head()"
   ]
  },
  {
   "cell_type": "code",
   "execution_count": 10,
   "metadata": {},
   "outputs": [
    {
     "output_type": "execute_result",
     "data": {
      "text/plain": [
       "   movieId  rating_counts  rating_mean\n",
       "0        1        68469.0     3.886649\n",
       "1        2        27143.0     3.246583\n",
       "2        3        15585.0     3.173981\n",
       "3        4         2989.0     2.874540\n",
       "4        5        15474.0     3.077291"
      ],
      "text/html": "<div>\n<style scoped>\n    .dataframe tbody tr th:only-of-type {\n        vertical-align: middle;\n    }\n\n    .dataframe tbody tr th {\n        vertical-align: top;\n    }\n\n    .dataframe thead th {\n        text-align: right;\n    }\n</style>\n<table border=\"1\" class=\"dataframe\">\n  <thead>\n    <tr style=\"text-align: right;\">\n      <th></th>\n      <th>movieId</th>\n      <th>rating_counts</th>\n      <th>rating_mean</th>\n    </tr>\n  </thead>\n  <tbody>\n    <tr>\n      <th>0</th>\n      <td>1</td>\n      <td>68469.0</td>\n      <td>3.886649</td>\n    </tr>\n    <tr>\n      <th>1</th>\n      <td>2</td>\n      <td>27143.0</td>\n      <td>3.246583</td>\n    </tr>\n    <tr>\n      <th>2</th>\n      <td>3</td>\n      <td>15585.0</td>\n      <td>3.173981</td>\n    </tr>\n    <tr>\n      <th>3</th>\n      <td>4</td>\n      <td>2989.0</td>\n      <td>2.874540</td>\n    </tr>\n    <tr>\n      <th>4</th>\n      <td>5</td>\n      <td>15474.0</td>\n      <td>3.077291</td>\n    </tr>\n  </tbody>\n</table>\n</div>"
     },
     "metadata": {},
     "execution_count": 10
    }
   ],
   "source": [
    "def set_year_group(year):\n",
    "    '''Groups the years through 0-5.'''\n",
    "    if (year < 1900): return 0\n",
    "    elif (1900 <= year <= 1975): return 1\n",
    "    elif (1976 <= year <= 1995): return 2\n",
    "    elif (1996 <= year <= 2003): return 3\n",
    "    elif (2004 <= year <= 2009): return 4\n",
    "    elif (2010 <= year): return 5\n",
    "    else: return 0\n",
    "    \n",
    "movies['year_group'] = movies.apply(lambda x: set_year_group(x['year']), axis=1)\n",
    "\n",
    "movies.drop(['title','year'], axis = 1, inplace=True)\n",
    "\n",
    "# group years and rating counts to reduce the scale and increase the similarity calculation\n",
    "agg_movies_rat = ratings_data.groupby(['movieId']).agg({'rating': [np.size, np.mean]}).reset_index()\n",
    "del ratings_data\n",
    "\n",
    "agg_movies_rat.columns = ['movieId','rating_counts', 'rating_mean']\n",
    "\n",
    "agg_movies_rat.head()"
   ]
  },
  {
   "cell_type": "code",
   "execution_count": 11,
   "metadata": {},
   "outputs": [
    {
     "output_type": "execute_result",
     "data": {
      "text/plain": [
       "   movieId  year_group  rating_mean  rating_group\n",
       "0        1           2     3.886649           5.0\n",
       "1        2           2     3.246583           5.0\n",
       "2        3           2     3.173981           5.0\n",
       "3        4           2     2.874540           4.0\n",
       "4        5           2     3.077291           5.0"
      ],
      "text/html": "<div>\n<style scoped>\n    .dataframe tbody tr th:only-of-type {\n        vertical-align: middle;\n    }\n\n    .dataframe tbody tr th {\n        vertical-align: top;\n    }\n\n    .dataframe thead th {\n        text-align: right;\n    }\n</style>\n<table border=\"1\" class=\"dataframe\">\n  <thead>\n    <tr style=\"text-align: right;\">\n      <th></th>\n      <th>movieId</th>\n      <th>year_group</th>\n      <th>rating_mean</th>\n      <th>rating_group</th>\n    </tr>\n  </thead>\n  <tbody>\n    <tr>\n      <th>0</th>\n      <td>1</td>\n      <td>2</td>\n      <td>3.886649</td>\n      <td>5.0</td>\n    </tr>\n    <tr>\n      <th>1</th>\n      <td>2</td>\n      <td>2</td>\n      <td>3.246583</td>\n      <td>5.0</td>\n    </tr>\n    <tr>\n      <th>2</th>\n      <td>3</td>\n      <td>2</td>\n      <td>3.173981</td>\n      <td>5.0</td>\n    </tr>\n    <tr>\n      <th>3</th>\n      <td>4</td>\n      <td>2</td>\n      <td>2.874540</td>\n      <td>4.0</td>\n    </tr>\n    <tr>\n      <th>4</th>\n      <td>5</td>\n      <td>2</td>\n      <td>3.077291</td>\n      <td>5.0</td>\n    </tr>\n  </tbody>\n</table>\n</div>"
     },
     "metadata": {},
     "execution_count": 11
    }
   ],
   "source": [
    "def set_rating_group(rating_counts):\n",
    "    '''Group rating counts.'''\n",
    "    if (rating_counts <= 1): return 0\n",
    "    elif (2 <= rating_counts <= 10): return 1\n",
    "    elif (11 <= rating_counts <= 100): return 2\n",
    "    elif (101 <= rating_counts <= 1000): return 3\n",
    "    elif (1001 <= rating_counts <= 5000): return 4\n",
    "    elif (5001 <= rating_counts): return 5\n",
    "    else: return 0\n",
    "    \n",
    "agg_movies_rat['rating_group'] = agg_movies_rat.apply(lambda x: set_rating_group(x['rating_counts']), axis=1)\n",
    "\n",
    "agg_movies_rat.drop('rating_counts', axis = 1, inplace=True)\n",
    "\n",
    "mov_rating_df = movies.merge(agg_movies_rat, left_on='movieId', right_on='movieId', how='left')\n",
    "del movies, agg_movies_rat\n",
    "\n",
    "mov_rating_df = mov_rating_df.fillna(0)\n",
    "\n",
    "mov_rating_df.head()"
   ]
  },
  {
   "cell_type": "code",
   "execution_count": 12,
   "metadata": {},
   "outputs": [
    {
     "output_type": "stream",
     "name": "stderr",
     "text": [
      "/home/giuseppe/Documenti/Dev/movie database/venv/lib/python3.6/site-packages/pandas/core/frame.py:4174: SettingWithCopyWarning: \nA value is trying to be set on a copy of a slice from a DataFrame\n\nSee the caveats in the documentation: https://pandas.pydata.org/pandas-docs/stable/user_guide/indexing.html#returning-a-view-versus-a-copy\n  errors=errors,\n"
     ]
    },
    {
     "output_type": "execute_result",
     "data": {
      "text/plain": [
       "       movieId\n",
       "14721    73268\n",
       "14731    73319\n",
       "14732    73321\n",
       "14804    73744\n",
       "14844    73929"
      ],
      "text/html": "<div>\n<style scoped>\n    .dataframe tbody tr th:only-of-type {\n        vertical-align: middle;\n    }\n\n    .dataframe tbody tr th {\n        vertical-align: top;\n    }\n\n    .dataframe thead th {\n        text-align: right;\n    }\n</style>\n<table border=\"1\" class=\"dataframe\">\n  <thead>\n    <tr style=\"text-align: right;\">\n      <th></th>\n      <th>movieId</th>\n    </tr>\n  </thead>\n  <tbody>\n    <tr>\n      <th>14721</th>\n      <td>73268</td>\n    </tr>\n    <tr>\n      <th>14731</th>\n      <td>73319</td>\n    </tr>\n    <tr>\n      <th>14732</th>\n      <td>73321</td>\n    </tr>\n    <tr>\n      <th>14804</th>\n      <td>73744</td>\n    </tr>\n    <tr>\n      <th>14844</th>\n      <td>73929</td>\n    </tr>\n  </tbody>\n</table>\n</div>"
     },
     "metadata": {},
     "execution_count": 12
    }
   ],
   "source": [
    "# deletes all movies with year <= 2003 due to memory limit\n",
    "\n",
    "# print(mov_rating_df.head())\n",
    "rm_index = mov_rating_df[mov_rating_df['year_group'] > 4]\n",
    "rm_index.drop(['year_group','rating_mean','rating_group'], axis = 1, inplace=True)\n",
    "rm_index.head()"
   ]
  },
  {
   "cell_type": "code",
   "execution_count": 13,
   "metadata": {},
   "outputs": [],
   "source": [
    "movies_data = movies_data.merge(rm_index, left_on='movieId', right_on='movieId', how='right')\n",
    "movies_data.to_csv('./data/movies_data.csv')"
   ]
  },
  {
   "cell_type": "code",
   "execution_count": 14,
   "metadata": {},
   "outputs": [
    {
     "output_type": "stream",
     "name": "stdout",
     "text": [
      "   movieId        1       2        3        4        5        6        7  \\\n0    73268  0.02350  0.0205  0.11250  0.04500  0.06550  0.06225  0.02150   \n1    73319  0.03400  0.0305  0.03325  0.05650  0.03800  0.02600  0.01125   \n2    73321  0.02975  0.0255  0.06225  0.03825  0.05175  0.04500  0.02350   \n3    73744  0.00000  0.0000  0.00000  0.00000  0.00000  0.00000  0.00000   \n4    73929  0.03275  0.0280  0.01825  0.02725  0.03650  0.01700  0.01350   \n\n         8        9  ...     1119     1120     1121     1122     1123  \\\n0  0.10575  0.07600  ...  0.04125  0.01850  0.01275  0.01025  0.16325   \n1  0.03400  0.01025  ...  0.03275  0.02475  0.00850  0.01375  0.25450   \n2  0.10325  0.02500  ...  0.07950  0.03900  0.01225  0.02425  0.15700   \n3  0.00000  0.00000  ...  0.00000  0.00000  0.00000  0.00000  0.00000   \n4  0.04925  0.02650  ...  0.05925  0.02025  0.01350  0.01075  0.34825   \n\n      1124     1125     1126     1127     1128  \n0  0.04375  0.02300  0.00975  0.55525  0.18725  \n1  0.07175  0.01200  0.00550  0.10600  0.01650  \n2  0.13000  0.01675  0.01250  0.17900  0.04475  \n3  0.00000  0.00000  0.00000  0.00000  0.00000  \n4  0.07100  0.02225  0.00600  0.44900  0.22850  \n\n[5 rows x 1129 columns]\n"
     ]
    },
    {
     "output_type": "execute_result",
     "data": {
      "text/plain": [
       "            1       2        3        4        5        6        7     \\\n",
       "movieId                                                                 \n",
       "73268    0.02350  0.0205  0.11250  0.04500  0.06550  0.06225  0.02150   \n",
       "73319    0.03400  0.0305  0.03325  0.05650  0.03800  0.02600  0.01125   \n",
       "73321    0.02975  0.0255  0.06225  0.03825  0.05175  0.04500  0.02350   \n",
       "73744    0.00000  0.0000  0.00000  0.00000  0.00000  0.00000  0.00000   \n",
       "73929    0.03275  0.0280  0.01825  0.02725  0.03650  0.01700  0.01350   \n",
       "\n",
       "            8        9        10    ...     1119     1120     1121     1122  \\\n",
       "movieId                             ...                                       \n",
       "73268    0.10575  0.07600  0.11025  ...  0.04125  0.01850  0.01275  0.01025   \n",
       "73319    0.03400  0.01025  0.02350  ...  0.03275  0.02475  0.00850  0.01375   \n",
       "73321    0.10325  0.02500  0.08700  ...  0.07950  0.03900  0.01225  0.02425   \n",
       "73744    0.00000  0.00000  0.00000  ...  0.00000  0.00000  0.00000  0.00000   \n",
       "73929    0.04925  0.02650  0.01400  ...  0.05925  0.02025  0.01350  0.01075   \n",
       "\n",
       "            1123     1124     1125     1126     1127     1128  \n",
       "movieId                                                        \n",
       "73268    0.16325  0.04375  0.02300  0.00975  0.55525  0.18725  \n",
       "73319    0.25450  0.07175  0.01200  0.00550  0.10600  0.01650  \n",
       "73321    0.15700  0.13000  0.01675  0.01250  0.17900  0.04475  \n",
       "73744    0.00000  0.00000  0.00000  0.00000  0.00000  0.00000  \n",
       "73929    0.34825  0.07100  0.02225  0.00600  0.44900  0.22850  \n",
       "\n",
       "[5 rows x 1128 columns]"
      ],
      "text/html": "<div>\n<style scoped>\n    .dataframe tbody tr th:only-of-type {\n        vertical-align: middle;\n    }\n\n    .dataframe tbody tr th {\n        vertical-align: top;\n    }\n\n    .dataframe thead th {\n        text-align: right;\n    }\n</style>\n<table border=\"1\" class=\"dataframe\">\n  <thead>\n    <tr style=\"text-align: right;\">\n      <th></th>\n      <th>1</th>\n      <th>2</th>\n      <th>3</th>\n      <th>4</th>\n      <th>5</th>\n      <th>6</th>\n      <th>7</th>\n      <th>8</th>\n      <th>9</th>\n      <th>10</th>\n      <th>...</th>\n      <th>1119</th>\n      <th>1120</th>\n      <th>1121</th>\n      <th>1122</th>\n      <th>1123</th>\n      <th>1124</th>\n      <th>1125</th>\n      <th>1126</th>\n      <th>1127</th>\n      <th>1128</th>\n    </tr>\n    <tr>\n      <th>movieId</th>\n      <th></th>\n      <th></th>\n      <th></th>\n      <th></th>\n      <th></th>\n      <th></th>\n      <th></th>\n      <th></th>\n      <th></th>\n      <th></th>\n      <th></th>\n      <th></th>\n      <th></th>\n      <th></th>\n      <th></th>\n      <th></th>\n      <th></th>\n      <th></th>\n      <th></th>\n      <th></th>\n      <th></th>\n    </tr>\n  </thead>\n  <tbody>\n    <tr>\n      <th>73268</th>\n      <td>0.02350</td>\n      <td>0.0205</td>\n      <td>0.11250</td>\n      <td>0.04500</td>\n      <td>0.06550</td>\n      <td>0.06225</td>\n      <td>0.02150</td>\n      <td>0.10575</td>\n      <td>0.07600</td>\n      <td>0.11025</td>\n      <td>...</td>\n      <td>0.04125</td>\n      <td>0.01850</td>\n      <td>0.01275</td>\n      <td>0.01025</td>\n      <td>0.16325</td>\n      <td>0.04375</td>\n      <td>0.02300</td>\n      <td>0.00975</td>\n      <td>0.55525</td>\n      <td>0.18725</td>\n    </tr>\n    <tr>\n      <th>73319</th>\n      <td>0.03400</td>\n      <td>0.0305</td>\n      <td>0.03325</td>\n      <td>0.05650</td>\n      <td>0.03800</td>\n      <td>0.02600</td>\n      <td>0.01125</td>\n      <td>0.03400</td>\n      <td>0.01025</td>\n      <td>0.02350</td>\n      <td>...</td>\n      <td>0.03275</td>\n      <td>0.02475</td>\n      <td>0.00850</td>\n      <td>0.01375</td>\n      <td>0.25450</td>\n      <td>0.07175</td>\n      <td>0.01200</td>\n      <td>0.00550</td>\n      <td>0.10600</td>\n      <td>0.01650</td>\n    </tr>\n    <tr>\n      <th>73321</th>\n      <td>0.02975</td>\n      <td>0.0255</td>\n      <td>0.06225</td>\n      <td>0.03825</td>\n      <td>0.05175</td>\n      <td>0.04500</td>\n      <td>0.02350</td>\n      <td>0.10325</td>\n      <td>0.02500</td>\n      <td>0.08700</td>\n      <td>...</td>\n      <td>0.07950</td>\n      <td>0.03900</td>\n      <td>0.01225</td>\n      <td>0.02425</td>\n      <td>0.15700</td>\n      <td>0.13000</td>\n      <td>0.01675</td>\n      <td>0.01250</td>\n      <td>0.17900</td>\n      <td>0.04475</td>\n    </tr>\n    <tr>\n      <th>73744</th>\n      <td>0.00000</td>\n      <td>0.0000</td>\n      <td>0.00000</td>\n      <td>0.00000</td>\n      <td>0.00000</td>\n      <td>0.00000</td>\n      <td>0.00000</td>\n      <td>0.00000</td>\n      <td>0.00000</td>\n      <td>0.00000</td>\n      <td>...</td>\n      <td>0.00000</td>\n      <td>0.00000</td>\n      <td>0.00000</td>\n      <td>0.00000</td>\n      <td>0.00000</td>\n      <td>0.00000</td>\n      <td>0.00000</td>\n      <td>0.00000</td>\n      <td>0.00000</td>\n      <td>0.00000</td>\n    </tr>\n    <tr>\n      <th>73929</th>\n      <td>0.03275</td>\n      <td>0.0280</td>\n      <td>0.01825</td>\n      <td>0.02725</td>\n      <td>0.03650</td>\n      <td>0.01700</td>\n      <td>0.01350</td>\n      <td>0.04925</td>\n      <td>0.02650</td>\n      <td>0.01400</td>\n      <td>...</td>\n      <td>0.05925</td>\n      <td>0.02025</td>\n      <td>0.01350</td>\n      <td>0.01075</td>\n      <td>0.34825</td>\n      <td>0.07100</td>\n      <td>0.02225</td>\n      <td>0.00600</td>\n      <td>0.44900</td>\n      <td>0.22850</td>\n    </tr>\n  </tbody>\n</table>\n<p>5 rows × 1128 columns</p>\n</div>"
     },
     "metadata": {},
     "execution_count": 14
    }
   ],
   "source": [
    "mov_tag_df = mov_tag_df.merge(rm_index, left_on='movieId', right_on='movieId', how='right')\n",
    "print(mov_tag_df.head())\n",
    "mov_tag_df = mov_tag_df.set_index('movieId')\n",
    "mov_tag_df.head()"
   ]
  },
  {
   "cell_type": "code",
   "execution_count": 15,
   "metadata": {},
   "outputs": [
    {
     "output_type": "stream",
     "name": "stdout",
     "text": [
      "   movieId  Action  Adventure  Animation  Children  Comedy  Crime  \\\n0    73268       1          0          0         0       0      0   \n1    73319       0          0          0         0       1      0   \n2    73321       1          1          0         0       0      0   \n3    73744       0          0          0         0       0      0   \n4    73929       1          0          0         0       0      0   \n\n   Documentary  Drama  Fantasy  Film-Noir  Horror  Musical  Mystery  Romance  \\\n0            0      1        0          0       1        0        0        0   \n1            0      0        0          0       0        0        0        1   \n2            0      1        0          0       0        0        0        0   \n3            0      1        0          0       0        1        0        1   \n4            0      0        1          0       1        0        0        0   \n\n   Sci-Fi  Thriller  War  Western  (no genres listed)  \n0       0         1    0        0                   0  \n1       0         0    0        0                   0  \n2       0         0    0        0                   0  \n3       0         0    0        0                   0  \n4       0         1    0        0                   0  \n"
     ]
    },
    {
     "output_type": "execute_result",
     "data": {
      "text/plain": [
       "         Action  Adventure  Animation  Children  Comedy  Crime  Documentary  \\\n",
       "movieId                                                                       \n",
       "73268         1          0          0         0       0      0            0   \n",
       "73319         0          0          0         0       1      0            0   \n",
       "73321         1          1          0         0       0      0            0   \n",
       "73744         0          0          0         0       0      0            0   \n",
       "73929         1          0          0         0       0      0            0   \n",
       "\n",
       "         Drama  Fantasy  Film-Noir  Horror  Musical  Mystery  Romance  Sci-Fi  \\\n",
       "movieId                                                                         \n",
       "73268        1        0          0       1        0        0        0       0   \n",
       "73319        0        0          0       0        0        0        1       0   \n",
       "73321        1        0          0       0        0        0        0       0   \n",
       "73744        1        0          0       0        1        0        1       0   \n",
       "73929        0        1          0       1        0        0        0       0   \n",
       "\n",
       "         Thriller  War  Western  (no genres listed)  \n",
       "movieId                                              \n",
       "73268           1    0        0                   0  \n",
       "73319           0    0        0                   0  \n",
       "73321           0    0        0                   0  \n",
       "73744           0    0        0                   0  \n",
       "73929           1    0        0                   0  "
      ],
      "text/html": "<div>\n<style scoped>\n    .dataframe tbody tr th:only-of-type {\n        vertical-align: middle;\n    }\n\n    .dataframe tbody tr th {\n        vertical-align: top;\n    }\n\n    .dataframe thead th {\n        text-align: right;\n    }\n</style>\n<table border=\"1\" class=\"dataframe\">\n  <thead>\n    <tr style=\"text-align: right;\">\n      <th></th>\n      <th>Action</th>\n      <th>Adventure</th>\n      <th>Animation</th>\n      <th>Children</th>\n      <th>Comedy</th>\n      <th>Crime</th>\n      <th>Documentary</th>\n      <th>Drama</th>\n      <th>Fantasy</th>\n      <th>Film-Noir</th>\n      <th>Horror</th>\n      <th>Musical</th>\n      <th>Mystery</th>\n      <th>Romance</th>\n      <th>Sci-Fi</th>\n      <th>Thriller</th>\n      <th>War</th>\n      <th>Western</th>\n      <th>(no genres listed)</th>\n    </tr>\n    <tr>\n      <th>movieId</th>\n      <th></th>\n      <th></th>\n      <th></th>\n      <th></th>\n      <th></th>\n      <th></th>\n      <th></th>\n      <th></th>\n      <th></th>\n      <th></th>\n      <th></th>\n      <th></th>\n      <th></th>\n      <th></th>\n      <th></th>\n      <th></th>\n      <th></th>\n      <th></th>\n      <th></th>\n    </tr>\n  </thead>\n  <tbody>\n    <tr>\n      <th>73268</th>\n      <td>1</td>\n      <td>0</td>\n      <td>0</td>\n      <td>0</td>\n      <td>0</td>\n      <td>0</td>\n      <td>0</td>\n      <td>1</td>\n      <td>0</td>\n      <td>0</td>\n      <td>1</td>\n      <td>0</td>\n      <td>0</td>\n      <td>0</td>\n      <td>0</td>\n      <td>1</td>\n      <td>0</td>\n      <td>0</td>\n      <td>0</td>\n    </tr>\n    <tr>\n      <th>73319</th>\n      <td>0</td>\n      <td>0</td>\n      <td>0</td>\n      <td>0</td>\n      <td>1</td>\n      <td>0</td>\n      <td>0</td>\n      <td>0</td>\n      <td>0</td>\n      <td>0</td>\n      <td>0</td>\n      <td>0</td>\n      <td>0</td>\n      <td>1</td>\n      <td>0</td>\n      <td>0</td>\n      <td>0</td>\n      <td>0</td>\n      <td>0</td>\n    </tr>\n    <tr>\n      <th>73321</th>\n      <td>1</td>\n      <td>1</td>\n      <td>0</td>\n      <td>0</td>\n      <td>0</td>\n      <td>0</td>\n      <td>0</td>\n      <td>1</td>\n      <td>0</td>\n      <td>0</td>\n      <td>0</td>\n      <td>0</td>\n      <td>0</td>\n      <td>0</td>\n      <td>0</td>\n      <td>0</td>\n      <td>0</td>\n      <td>0</td>\n      <td>0</td>\n    </tr>\n    <tr>\n      <th>73744</th>\n      <td>0</td>\n      <td>0</td>\n      <td>0</td>\n      <td>0</td>\n      <td>0</td>\n      <td>0</td>\n      <td>0</td>\n      <td>1</td>\n      <td>0</td>\n      <td>0</td>\n      <td>0</td>\n      <td>1</td>\n      <td>0</td>\n      <td>1</td>\n      <td>0</td>\n      <td>0</td>\n      <td>0</td>\n      <td>0</td>\n      <td>0</td>\n    </tr>\n    <tr>\n      <th>73929</th>\n      <td>1</td>\n      <td>0</td>\n      <td>0</td>\n      <td>0</td>\n      <td>0</td>\n      <td>0</td>\n      <td>0</td>\n      <td>0</td>\n      <td>1</td>\n      <td>0</td>\n      <td>1</td>\n      <td>0</td>\n      <td>0</td>\n      <td>0</td>\n      <td>0</td>\n      <td>1</td>\n      <td>0</td>\n      <td>0</td>\n      <td>0</td>\n    </tr>\n  </tbody>\n</table>\n</div>"
     },
     "metadata": {},
     "execution_count": 15
    }
   ],
   "source": [
    "mov_genres_df = mov_genres_df.merge(rm_index, left_on='movieId', right_on='movieId', how='right')\n",
    "print(mov_genres_df.head())\n",
    "mov_genres_df = mov_genres_df.set_index('movieId')\n",
    "mov_genres_df.head()"
   ]
  },
  {
   "cell_type": "code",
   "execution_count": 16,
   "metadata": {},
   "outputs": [
    {
     "output_type": "stream",
     "name": "stdout",
     "text": [
      "   movieId  year_group  rating_mean  rating_group\n0    73268           5     3.211313           4.0\n1    73319           5     3.312629           3.0\n2    73321           5     3.455823           5.0\n3    73744           5     2.807692           2.0\n4    73929           5     2.625275           3.0\n"
     ]
    },
    {
     "output_type": "execute_result",
     "data": {
      "text/plain": [
       "         year_group  rating_mean  rating_group\n",
       "movieId                                       \n",
       "73268             5     3.211313           4.0\n",
       "73319             5     3.312629           3.0\n",
       "73321             5     3.455823           5.0\n",
       "73744             5     2.807692           2.0\n",
       "73929             5     2.625275           3.0"
      ],
      "text/html": "<div>\n<style scoped>\n    .dataframe tbody tr th:only-of-type {\n        vertical-align: middle;\n    }\n\n    .dataframe tbody tr th {\n        vertical-align: top;\n    }\n\n    .dataframe thead th {\n        text-align: right;\n    }\n</style>\n<table border=\"1\" class=\"dataframe\">\n  <thead>\n    <tr style=\"text-align: right;\">\n      <th></th>\n      <th>year_group</th>\n      <th>rating_mean</th>\n      <th>rating_group</th>\n    </tr>\n    <tr>\n      <th>movieId</th>\n      <th></th>\n      <th></th>\n      <th></th>\n    </tr>\n  </thead>\n  <tbody>\n    <tr>\n      <th>73268</th>\n      <td>5</td>\n      <td>3.211313</td>\n      <td>4.0</td>\n    </tr>\n    <tr>\n      <th>73319</th>\n      <td>5</td>\n      <td>3.312629</td>\n      <td>3.0</td>\n    </tr>\n    <tr>\n      <th>73321</th>\n      <td>5</td>\n      <td>3.455823</td>\n      <td>5.0</td>\n    </tr>\n    <tr>\n      <th>73744</th>\n      <td>5</td>\n      <td>2.807692</td>\n      <td>2.0</td>\n    </tr>\n    <tr>\n      <th>73929</th>\n      <td>5</td>\n      <td>2.625275</td>\n      <td>3.0</td>\n    </tr>\n  </tbody>\n</table>\n</div>"
     },
     "metadata": {},
     "execution_count": 16
    }
   ],
   "source": [
    "mov_rating_df = mov_rating_df.merge(rm_index, left_on='movieId', right_on='movieId', how='right')\n",
    "print(mov_rating_df.head())\n",
    "mov_rating_df = mov_rating_df.set_index('movieId')\n",
    "# mov_rating_df.drop(rm_index_p, inplace=True)\n",
    "mov_rating_df.head()"
   ]
  },
  {
   "cell_type": "code",
   "execution_count": 17,
   "metadata": {},
   "outputs": [],
   "source": [
    "# rm_index.drop(['year_group','rating_mean','rating_group'], axis = 1, inplace=True)\n",
    "# print(rm_index)"
   ]
  },
  {
   "cell_type": "code",
   "execution_count": 18,
   "metadata": {},
   "outputs": [],
   "source": [
    "# # mov_tag_df = pd.merge(mov_tag_df, mov_rating_df, how='inner', on=['movieId'])\n",
    "# rm_index.drop(['year_group','rating_mean','rating_group'], axis = 1, inplace=True)\n",
    "\n",
    "# mov_tag_df = mov_tag_df.merge(rm_index, left_on='movieId', right_on='movieId', how='right')\n",
    "# mov_tag_df.head()\n",
    "\n",
    "# rm_index.drop(['year_group','rating_mean','rating_group'], axis = 1, inplace=True)"
   ]
  },
  {
   "cell_type": "code",
   "execution_count": 19,
   "metadata": {},
   "outputs": [],
   "source": [
    "# mov_tag_df = mov_tag_df.merge(rm_index, left_on='movieId', right_on='movieId', how='right')\n",
    "# mov_tag_df = mov_tag_df.set_index('movieId')"
   ]
  },
  {
   "cell_type": "code",
   "execution_count": 20,
   "metadata": {},
   "outputs": [],
   "source": [
    "# movies matrix\n",
    "\n",
    "# set \"movieId\" field as index in the dfs\n",
    "# mov_tag_df = mov_tag_df.merge(rm_index_id, left_on='movieId', right_on='movieId', how='right')\n",
    "# mov_tag_df = mov_tag_df.set_index('movieId')\n",
    "\n",
    "# mov_tag_df = mov_tag_df.merge(rm_index_id, left_on='movieId', right_on='movieId', how='right')\n",
    "# mov_genres_df = mov_genres_df.set_index('movieId')\n",
    "\n",
    "# mov_tag_df = mov_tag_df.merge(rm_index_id, left_on='movieId', right_on='movieId', how='right')\n",
    "# mov_rating_df = mov_rating_df.set_index('movieId')\n",
    "\n",
    "#cosine similarity for mov_tag_df\n",
    "cos_tag = cosine_similarity(mov_tag_df.values)*0.5\n",
    "\n",
    "#cosine similarity for mov_genres_df\n",
    "cos_genres = cosine_similarity(mov_genres_df.values)*0.25\n",
    "del mov_genres_df\n",
    "\n",
    "#cosine similarity for mov_rating_df\n",
    "cos_rating = cosine_similarity(mov_rating_df.values)*0.25\n",
    "del mov_rating_df\n",
    "\n",
    "#mix\n",
    "cos = cos_tag+cos_genres+cos_rating\n",
    "\n",
    "cols = mov_tag_df.index.values\n",
    "inx = mov_tag_df.index\n",
    "movies_sim = pd.DataFrame(cos, columns=cols, index=inx)\n",
    "movies_sim.to_csv('./data/movies_sim.csv')\n",
    "movies_sim.head()\n",
    "\n",
    "del mov_tag_df, cols, inx"
   ]
  },
  {
   "cell_type": "code",
   "execution_count": 21,
   "metadata": {},
   "outputs": [],
   "source": [
    "# create movie_similarity df\n",
    "\n",
    "def get_similar(movieId):\n",
    "    df = movies_sim.loc[movies_sim.index == movieId].reset_index(). \\\n",
    "            melt(id_vars='movieId', var_name='sim_moveId', value_name='relevance'). \\\n",
    "            sort_values('relevance', axis=0, ascending=False)[1:6]\n",
    "    return df\n",
    "    \n",
    "# create empty df\n",
    "movies_similarity = pd.DataFrame(columns=['movieId','sim_moveId','relevance'])"
   ]
  },
  {
   "cell_type": "code",
   "execution_count": 22,
   "metadata": {},
   "outputs": [],
   "source": [
    "#  for each movie find the 5 most similar movies\n",
    "\n",
    "for x in movies_sim.index.tolist():\n",
    "    movies_similarity = movies_similarity.append(get_similar(x))\n",
    "    \n",
    "movies_similarity.head()\n",
    "\n",
    "movies_similarity.to_csv('./data/movies_similarity.csv')"
   ]
  },
  {
   "cell_type": "code",
   "execution_count": 23,
   "metadata": {},
   "outputs": [],
   "source": [
    "# check recommendations\n",
    "\n",
    "def movie_recommender(movieId):\n",
    "    df = movies_sim.loc[movies_sim.index == movieId].reset_index(). \\\n",
    "            melt(id_vars='movieId', var_name='sim_moveId', value_name='relevance'). \\\n",
    "            sort_values('relevance', axis=0, ascending=False)[1:6]\n",
    "    df['sim_moveId'] = df['sim_moveId'].astype(int)\n",
    "    sim_df = movies_data.merge(df, left_on='movieId', right_on='sim_moveId', how='inner'). \\\n",
    "                sort_values('relevance', axis=0, ascending=False). \\\n",
    "                loc[: , ['movieId_y','title','genres']]. \\\n",
    "                rename(columns={ 'movieId_y': \"movieId\" })\n",
    "    return sim_df"
   ]
  },
  {
   "cell_type": "code",
   "execution_count": 24,
   "metadata": {},
   "outputs": [
    {
     "output_type": "execute_result",
     "data": {
      "text/plain": [
       "   movieId                                  title  \\\n",
       "0    79132                     Source Code (2011)   \n",
       "2    79132                  Predestination (2014)   \n",
       "3    79132  Sherlock: The Abominable Bride (2016)   \n",
       "1    79132                       Coherence (2013)   \n",
       "4    79132   Black Mirror: White Christmas (2014)   \n",
       "\n",
       "                                 genres  \n",
       "0  Action|Drama|Mystery|Sci-Fi|Thriller  \n",
       "2        Action|Mystery|Sci-Fi|Thriller  \n",
       "3   Action|Crime|Drama|Mystery|Thriller  \n",
       "1         Drama|Mystery|Sci-Fi|Thriller  \n",
       "4  Drama|Horror|Mystery|Sci-Fi|Thriller  "
      ],
      "text/html": "<div>\n<style scoped>\n    .dataframe tbody tr th:only-of-type {\n        vertical-align: middle;\n    }\n\n    .dataframe tbody tr th {\n        vertical-align: top;\n    }\n\n    .dataframe thead th {\n        text-align: right;\n    }\n</style>\n<table border=\"1\" class=\"dataframe\">\n  <thead>\n    <tr style=\"text-align: right;\">\n      <th></th>\n      <th>movieId</th>\n      <th>title</th>\n      <th>genres</th>\n    </tr>\n  </thead>\n  <tbody>\n    <tr>\n      <th>0</th>\n      <td>79132</td>\n      <td>Source Code (2011)</td>\n      <td>Action|Drama|Mystery|Sci-Fi|Thriller</td>\n    </tr>\n    <tr>\n      <th>2</th>\n      <td>79132</td>\n      <td>Predestination (2014)</td>\n      <td>Action|Mystery|Sci-Fi|Thriller</td>\n    </tr>\n    <tr>\n      <th>3</th>\n      <td>79132</td>\n      <td>Sherlock: The Abominable Bride (2016)</td>\n      <td>Action|Crime|Drama|Mystery|Thriller</td>\n    </tr>\n    <tr>\n      <th>1</th>\n      <td>79132</td>\n      <td>Coherence (2013)</td>\n      <td>Drama|Mystery|Sci-Fi|Thriller</td>\n    </tr>\n    <tr>\n      <th>4</th>\n      <td>79132</td>\n      <td>Black Mirror: White Christmas (2014)</td>\n      <td>Drama|Horror|Mystery|Sci-Fi|Thriller</td>\n    </tr>\n  </tbody>\n</table>\n</div>"
     },
     "metadata": {},
     "execution_count": 24
    }
   ],
   "source": [
    "#get recommendation for Inception\n",
    "\n",
    "movie_recommender(79132)"
   ]
  },
  {
   "cell_type": "code",
   "execution_count": 27,
   "metadata": {},
   "outputs": [
    {
     "output_type": "execute_result",
     "data": {
      "text/plain": [
       "   movieId                                     title  genres\n",
       "0    86911             Hangover Part III, The (2013)  Comedy\n",
       "3    86911                              Ted 2 (2015)  Comedy\n",
       "4    86911       Neighbors 2: Sorority Rising (2016)  Comedy\n",
       "2    86911                 Dumb and Dumber To (2014)  Comedy\n",
       "1    86911  Anchorman 2: The Legend Continues (2013)  Comedy"
      ],
      "text/html": "<div>\n<style scoped>\n    .dataframe tbody tr th:only-of-type {\n        vertical-align: middle;\n    }\n\n    .dataframe tbody tr th {\n        vertical-align: top;\n    }\n\n    .dataframe thead th {\n        text-align: right;\n    }\n</style>\n<table border=\"1\" class=\"dataframe\">\n  <thead>\n    <tr style=\"text-align: right;\">\n      <th></th>\n      <th>movieId</th>\n      <th>title</th>\n      <th>genres</th>\n    </tr>\n  </thead>\n  <tbody>\n    <tr>\n      <th>0</th>\n      <td>86911</td>\n      <td>Hangover Part III, The (2013)</td>\n      <td>Comedy</td>\n    </tr>\n    <tr>\n      <th>3</th>\n      <td>86911</td>\n      <td>Ted 2 (2015)</td>\n      <td>Comedy</td>\n    </tr>\n    <tr>\n      <th>4</th>\n      <td>86911</td>\n      <td>Neighbors 2: Sorority Rising (2016)</td>\n      <td>Comedy</td>\n    </tr>\n    <tr>\n      <th>2</th>\n      <td>86911</td>\n      <td>Dumb and Dumber To (2014)</td>\n      <td>Comedy</td>\n    </tr>\n    <tr>\n      <th>1</th>\n      <td>86911</td>\n      <td>Anchorman 2: The Legend Continues (2013)</td>\n      <td>Comedy</td>\n    </tr>\n  </tbody>\n</table>\n</div>"
     },
     "metadata": {},
     "execution_count": 27
    }
   ],
   "source": [
    "movie_recommender(86911)"
   ]
  }
 ]
}