{
 "metadata": {
  "language_info": {
   "codemirror_mode": {
    "name": "ipython",
    "version": 3
   },
   "file_extension": ".py",
   "mimetype": "text/x-python",
   "name": "python",
   "nbconvert_exporter": "python",
   "pygments_lexer": "ipython3",
   "version": "3.6.9"
  },
  "orig_nbformat": 4,
  "kernelspec": {
   "name": "python369jvsc74a57bd03f0a5a1d5ee169c17152473543decb9bfbe5c0635f6568ddeb24c9e3305af3e1",
   "display_name": "Python 3.6.9 64-bit ('venv': venv)",
   "language": "python"
  }
 },
 "nbformat": 4,
 "nbformat_minor": 2,
 "cells": [
  {
   "cell_type": "code",
   "execution_count": 1,
   "metadata": {},
   "outputs": [
    {
     "output_type": "stream",
     "name": "stdout",
     "text": [
      "   movieId     73268     73319     73321     73744     73929     74115  \\\n0    73268  1.000000  0.492341  0.782253  0.313622  0.811349  0.313617   \n1    73319  0.492341  1.000000  0.494833  0.349440  0.496023  0.247331   \n2    73321  0.782253  0.494833  1.000000  0.317145  0.698595  0.317135   \n3    73744  0.313622  0.349440  0.317145  0.500000  0.247007  0.249998   \n4    73929  0.811349  0.496023  0.698595  0.247007  1.000000  0.391399   \n\n      74131     74154     74156  ...    193851    193853    193859    193863  \\\n0  0.684606  0.504912  0.703499  ...  0.384005  0.275813  0.207296  0.292032   \n1  0.547081  0.928407  0.493812  ...  0.223517  0.218926  0.400144  0.218926   \n2  0.722856  0.495514  0.676794  ...  0.295126  0.354899  0.192668  0.290295   \n3  0.391833  0.349537  0.349529  ...  0.336959  0.234027  0.235957  0.336090   \n4  0.558148  0.533903  0.616745  ...  0.307385  0.363949  0.220423  0.219611   \n\n     193866    193872    193878    193880    193882    193886  \n0  0.318092  0.331276  0.203644  0.328644  0.328644  0.371958  \n1  0.206993  0.222693  0.395702  0.218926  0.218926  0.238998  \n2  0.177268  0.336933  0.188233  0.332570  0.332570  0.383265  \n3  0.224494  0.377260  0.234027  0.378365  0.306196  0.329266  \n4  0.336807  0.216756  0.219611  0.219611  0.282111  0.308368  \n\n[5 rows x 17426 columns]\n   Unnamed: 0  movieId                              title  \\\n0           0    73268                 Daybreakers (2010)   \n1           1    73319                   Leap Year (2010)   \n2           2    73321            Book of Eli, The (2010)   \n3           3    73744  If You Love (Jos rakastat) (2010)   \n4           4    73929                      Legion (2010)   \n\n                           genres  \n0    Action|Drama|Horror|Thriller  \n1                  Comedy|Romance  \n2          Action|Adventure|Drama  \n3           Drama|Musical|Romance  \n4  Action|Fantasy|Horror|Thriller  \n"
     ]
    }
   ],
   "source": [
    "import pandas as pd\n",
    "\n",
    "# check recommendations\n",
    "\n",
    "movies_sim = pd.read_csv('./data/movies_sim.csv')\n",
    "movies_data = pd.read_csv('./data/movies_data.csv')\n",
    "\n",
    "def movie_recommender(movieId):\n",
    "    df = movies_sim.loc[movies_sim.index == movieId].reset_index(). \\\n",
    "            melt(id_vars='movieId', var_name='sim_moveId',              value_name='relevance'). \\\n",
    "            sort_values('relevance', axis=0, ascending=False)[1:6]\n",
    "    df['sim_moveId'] = df['sim_moveId'].astype(int)\n",
    "    sim_df = movies_data.merge(df, left_on='movieId', right_on='sim_moveId', how='inner'). \\\n",
    "                sort_values('relevance', axis=0, ascending=False). \\\n",
    "                loc[: , ['movieId_y','title','genres']]. \\\n",
    "                rename(columns={ 'movieId_y': \"movieId\" })\n",
    "    return sim_df"
   ]
  },
  {
   "cell_type": "code",
   "execution_count": 8,
   "metadata": {},
   "outputs": [
    {
     "output_type": "execute_result",
     "data": {
      "text/plain": [
       "   movieId                                              title  \\\n",
       "3   143377                   Glen Campbell: I'll Be Me (2014)   \n",
       "0   143377                                       Happy (2011)   \n",
       "2   143377                           Overnighters, The (2014)   \n",
       "4   143377                    The Last Man on the Moon (2016)   \n",
       "1   143377  Lady in Number 6: Music Saved My Life, The (2014)   \n",
       "\n",
       "              genres  \n",
       "3  Documentary|Drama  \n",
       "0  Documentary|Drama  \n",
       "2  Documentary|Drama  \n",
       "4  Documentary|Drama  \n",
       "1  Documentary|Drama  "
      ],
      "text/html": "<div>\n<style scoped>\n    .dataframe tbody tr th:only-of-type {\n        vertical-align: middle;\n    }\n\n    .dataframe tbody tr th {\n        vertical-align: top;\n    }\n\n    .dataframe thead th {\n        text-align: right;\n    }\n</style>\n<table border=\"1\" class=\"dataframe\">\n  <thead>\n    <tr style=\"text-align: right;\">\n      <th></th>\n      <th>movieId</th>\n      <th>title</th>\n      <th>genres</th>\n    </tr>\n  </thead>\n  <tbody>\n    <tr>\n      <th>3</th>\n      <td>143377</td>\n      <td>Glen Campbell: I'll Be Me (2014)</td>\n      <td>Documentary|Drama</td>\n    </tr>\n    <tr>\n      <th>0</th>\n      <td>143377</td>\n      <td>Happy (2011)</td>\n      <td>Documentary|Drama</td>\n    </tr>\n    <tr>\n      <th>2</th>\n      <td>143377</td>\n      <td>Overnighters, The (2014)</td>\n      <td>Documentary|Drama</td>\n    </tr>\n    <tr>\n      <th>4</th>\n      <td>143377</td>\n      <td>The Last Man on the Moon (2016)</td>\n      <td>Documentary|Drama</td>\n    </tr>\n    <tr>\n      <th>1</th>\n      <td>143377</td>\n      <td>Lady in Number 6: Music Saved My Life, The (2014)</td>\n      <td>Documentary|Drama</td>\n    </tr>\n  </tbody>\n</table>\n</div>"
     },
     "metadata": {},
     "execution_count": 8
    }
   ],
   "source": [
    "#get recommendation for Inception\n",
    "\n",
    "movie_recommender(7361)"
   ]
  }
 ]
}